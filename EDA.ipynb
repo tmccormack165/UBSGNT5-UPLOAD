{
 "cells": [
  {
   "cell_type": "markdown",
   "metadata": {},
   "source": [
    "# Connect to GNT Sqlite3 File"
   ]
  },
  {
   "cell_type": "markdown",
   "metadata": {},
   "source": [
    "## Collect Table Names and Column Names"
   ]
  },
  {
   "cell_type": "code",
   "execution_count": 25,
   "metadata": {},
   "outputs": [],
   "source": [
    "import sqlite3\n",
    "\n",
    "def print_table_info(cursor, filename):\n",
    "    '''Prints the tables and columns in the database to a file.\n",
    "    Parameters:\n",
    "        db_cursor: a cursor object\n",
    "        filename: the name of the file to write to\n",
    "    Returns:\n",
    "        None\n",
    "    '''\n",
    "    # See what tables are in the database\n",
    "    cursor.execute(\"SELECT name FROM sqlite_master WHERE type='table'\")\n",
    "    rows = cursor.fetchall()\n",
    "\n",
    "    infile = open(filename, 'w')\n",
    "    for row in rows:\n",
    "        table_name = row[0]\n",
    "        infile.write(table_name + '\\n')\n",
    "        columns = cursor.execute(f\"PRAGMA table_info({table_name})\").fetchall()\n",
    "        for col in columns:\n",
    "            infile.write(f'\\t{col[1]} - {col[2]}\\n')\n",
    "\n",
    "    infile.close()    \n",
    "\n",
    "\n",
    "# Connect to the SQLite database\n",
    "# If the database does not exist, it will be created\n",
    "conn = sqlite3.connect('UBSGNT5-DATA/GNT__UBSGNT5.sqlite3')\n",
    "\n",
    "# Create a cursor object\n",
    "cursor = conn.cursor()\n",
    "\n",
    "# Print the tables and columns to a file\n",
    "filename = 'ubsgnt5.txt'\n",
    "print_table_info(cursor, filename)\n",
    "\n",
    "# Close the connection\n",
    "conn.close()"
   ]
  },
  {
   "cell_type": "markdown",
   "metadata": {},
   "source": [
    "## What is the difference between ETCBC4.db and UBSGNT5.db?"
   ]
  },
  {
   "cell_type": "code",
   "execution_count": 35,
   "metadata": {},
   "outputs": [],
   "source": [
    "# connect to ETCBC4_words.db\n",
    "etc_conn = sqlite3.connect('ETCBC4/ETCBC4_words.db')\n",
    "cursor = etc_conn.cursor()\n",
    "filename = 'etcbc4.txt'\n",
    "print_table_info(cursor, filename)\n",
    "etc_conn.close()\n",
    "\n",
    "# connect to ETCBC4c_hints.db\n",
    "etc_conn_hints = sqlite3.connect('ETCBC4/ETCBC4_hints.db')\n",
    "cursor = etc_conn_hints.cursor()\n",
    "filename = 'etcbc4c_hints.txt'\n",
    "print_table_info(cursor, filename)\n",
    "etc_conn_hints.close()"
   ]
  },
  {
   "cell_type": "markdown",
   "metadata": {},
   "source": [
    "## Converting USX to TXT"
   ]
  },
  {
   "cell_type": "code",
   "execution_count": 33,
   "metadata": {},
   "outputs": [],
   "source": [
    "import xml.etree.ElementTree as ET\n",
    "import os\n",
    "\n",
    "def usx_to_txt(usx_file, txt_file):\n",
    "    # Parse the XML file\n",
    "    tree = ET.parse(usx_file)\n",
    "    root = tree.getroot()\n",
    "\n",
    "    # Open the txt file\n",
    "    with open(txt_file, 'w', encoding='utf-8') as f:\n",
    "        # Iterate over all elements in the XML\n",
    "        for elem in root.iter():\n",
    "            # If the element has text, write it to the file\n",
    "            if elem.text:\n",
    "                f.write(elem.text + os.linesep)\n",
    "\n",
    "# usx data\n",
    "rootdir = 'UBSGNT5-DATA/USX'\n",
    "data_src = os.listdir(rootdir)\n",
    "\n",
    "for i in range(len(data_src)):\n",
    "    pth_i = os.path.join(rootdir, data_src[i])\n",
    "    txtfile_i = pth_i.replace('.usx', '.txt')\n",
    "    try:\n",
    "        usx_to_txt(pth_i, txtfile_i)\n",
    "    except:\n",
    "        continue\n"
   ]
  },
  {
   "cell_type": "markdown",
   "metadata": {},
   "source": [
    "## What kind of commands are present in ETCBC4.db.pretty.json"
   ]
  },
  {
   "cell_type": "markdown",
   "metadata": {},
   "source": [
    "### Connecting to the Hints Database"
   ]
  },
  {
   "cell_type": "code",
   "execution_count": 41,
   "metadata": {},
   "outputs": [
    {
     "name": "stdout",
     "output_type": "stream",
     "text": [
      "19023\n",
      "[(85, 'st≠c'), (160, 'vt≠ptca'), (310, 'st≠c')]\n"
     ]
    }
   ],
   "source": [
    "# Connect to the SQLite database\n",
    "etc_conn_hints = sqlite3.connect('ETCBC4/ETCBC4_hints.db')\n",
    "cursor = etc_conn_hints.cursor()\n",
    "\n",
    "# How many hints are there?\n",
    "cursor.execute(\"SELECT COUNT(*) FROM hints\")\n",
    "print(cursor.fetchone()[0])\n",
    "\n",
    "# What does a sample hint look like?\n",
    "cursor.execute(\"SELECT * FROM hints LIMIT 3\")\n",
    "print(cursor.fetchall())\n",
    "\n",
    "# Close Connection\n",
    "etc_conn_hints.close()"
   ]
  },
  {
   "cell_type": "code",
   "execution_count": null,
   "metadata": {},
   "outputs": [],
   "source": []
  }
 ],
 "metadata": {
  "kernelspec": {
   "display_name": "ssc",
   "language": "python",
   "name": "python3"
  },
  "language_info": {
   "codemirror_mode": {
    "name": "ipython",
    "version": 3
   },
   "file_extension": ".py",
   "mimetype": "text/x-python",
   "name": "python",
   "nbconvert_exporter": "python",
   "pygments_lexer": "ipython3",
   "version": "3.10.11"
  }
 },
 "nbformat": 4,
 "nbformat_minor": 2
}
